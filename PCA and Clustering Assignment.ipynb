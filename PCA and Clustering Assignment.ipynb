{
 "cells": [
  {
   "cell_type": "code",
   "execution_count": 1,
   "metadata": {},
   "outputs": [],
   "source": [
    "import numpy as np\n",
    "import pandas as pd\n",
    "\n",
    "import seaborn as sns \n",
    "import matplotlib.pyplot as plt\n",
    "%matplotlib inline"
   ]
  },
  {
   "cell_type": "code",
   "execution_count": 2,
   "metadata": {},
   "outputs": [],
   "source": [
    "df = pd.read_csv(\"Country-data.csv\")"
   ]
  },
  {
   "cell_type": "code",
   "execution_count": 3,
   "metadata": {},
   "outputs": [
    {
     "data": {
      "text/html": [
       "<div>\n",
       "<style scoped>\n",
       "    .dataframe tbody tr th:only-of-type {\n",
       "        vertical-align: middle;\n",
       "    }\n",
       "\n",
       "    .dataframe tbody tr th {\n",
       "        vertical-align: top;\n",
       "    }\n",
       "\n",
       "    .dataframe thead th {\n",
       "        text-align: right;\n",
       "    }\n",
       "</style>\n",
       "<table border=\"1\" class=\"dataframe\">\n",
       "  <thead>\n",
       "    <tr style=\"text-align: right;\">\n",
       "      <th></th>\n",
       "      <th>country</th>\n",
       "      <th>child_mort</th>\n",
       "      <th>exports</th>\n",
       "      <th>health</th>\n",
       "      <th>imports</th>\n",
       "      <th>income</th>\n",
       "      <th>inflation</th>\n",
       "      <th>life_expec</th>\n",
       "      <th>total_fer</th>\n",
       "      <th>gdpp</th>\n",
       "    </tr>\n",
       "  </thead>\n",
       "  <tbody>\n",
       "    <tr>\n",
       "      <th>0</th>\n",
       "      <td>Afghanistan</td>\n",
       "      <td>90.2</td>\n",
       "      <td>10.0</td>\n",
       "      <td>7.58</td>\n",
       "      <td>44.9</td>\n",
       "      <td>1610</td>\n",
       "      <td>9.44</td>\n",
       "      <td>56.2</td>\n",
       "      <td>5.82</td>\n",
       "      <td>553</td>\n",
       "    </tr>\n",
       "    <tr>\n",
       "      <th>1</th>\n",
       "      <td>Albania</td>\n",
       "      <td>16.6</td>\n",
       "      <td>28.0</td>\n",
       "      <td>6.55</td>\n",
       "      <td>48.6</td>\n",
       "      <td>9930</td>\n",
       "      <td>4.49</td>\n",
       "      <td>76.3</td>\n",
       "      <td>1.65</td>\n",
       "      <td>4090</td>\n",
       "    </tr>\n",
       "    <tr>\n",
       "      <th>2</th>\n",
       "      <td>Algeria</td>\n",
       "      <td>27.3</td>\n",
       "      <td>38.4</td>\n",
       "      <td>4.17</td>\n",
       "      <td>31.4</td>\n",
       "      <td>12900</td>\n",
       "      <td>16.10</td>\n",
       "      <td>76.5</td>\n",
       "      <td>2.89</td>\n",
       "      <td>4460</td>\n",
       "    </tr>\n",
       "    <tr>\n",
       "      <th>3</th>\n",
       "      <td>Angola</td>\n",
       "      <td>119.0</td>\n",
       "      <td>62.3</td>\n",
       "      <td>2.85</td>\n",
       "      <td>42.9</td>\n",
       "      <td>5900</td>\n",
       "      <td>22.40</td>\n",
       "      <td>60.1</td>\n",
       "      <td>6.16</td>\n",
       "      <td>3530</td>\n",
       "    </tr>\n",
       "    <tr>\n",
       "      <th>4</th>\n",
       "      <td>Antigua and Barbuda</td>\n",
       "      <td>10.3</td>\n",
       "      <td>45.5</td>\n",
       "      <td>6.03</td>\n",
       "      <td>58.9</td>\n",
       "      <td>19100</td>\n",
       "      <td>1.44</td>\n",
       "      <td>76.8</td>\n",
       "      <td>2.13</td>\n",
       "      <td>12200</td>\n",
       "    </tr>\n",
       "  </tbody>\n",
       "</table>\n",
       "</div>"
      ],
      "text/plain": [
       "               country  child_mort  exports  health  imports  income  \\\n",
       "0          Afghanistan        90.2     10.0    7.58     44.9    1610   \n",
       "1              Albania        16.6     28.0    6.55     48.6    9930   \n",
       "2              Algeria        27.3     38.4    4.17     31.4   12900   \n",
       "3               Angola       119.0     62.3    2.85     42.9    5900   \n",
       "4  Antigua and Barbuda        10.3     45.5    6.03     58.9   19100   \n",
       "\n",
       "   inflation  life_expec  total_fer   gdpp  \n",
       "0       9.44        56.2       5.82    553  \n",
       "1       4.49        76.3       1.65   4090  \n",
       "2      16.10        76.5       2.89   4460  \n",
       "3      22.40        60.1       6.16   3530  \n",
       "4       1.44        76.8       2.13  12200  "
      ]
     },
     "execution_count": 3,
     "metadata": {},
     "output_type": "execute_result"
    }
   ],
   "source": [
    "df.head()"
   ]
  },
  {
   "cell_type": "code",
   "execution_count": 4,
   "metadata": {},
   "outputs": [],
   "source": [
    "# Since all the variables like : exports, health, imports are in percenatge and need to be calculated in there actual values\n",
    "df['exports']= df['exports']*df['gdpp']/100\n",
    "df['health']= df['health']*df['gdpp']/100\n",
    "df['imports']= df['imports']*df['gdpp']/100"
   ]
  },
  {
   "cell_type": "code",
   "execution_count": 5,
   "metadata": {},
   "outputs": [
    {
     "data": {
      "text/html": [
       "<div>\n",
       "<style scoped>\n",
       "    .dataframe tbody tr th:only-of-type {\n",
       "        vertical-align: middle;\n",
       "    }\n",
       "\n",
       "    .dataframe tbody tr th {\n",
       "        vertical-align: top;\n",
       "    }\n",
       "\n",
       "    .dataframe thead th {\n",
       "        text-align: right;\n",
       "    }\n",
       "</style>\n",
       "<table border=\"1\" class=\"dataframe\">\n",
       "  <thead>\n",
       "    <tr style=\"text-align: right;\">\n",
       "      <th></th>\n",
       "      <th>country</th>\n",
       "      <th>child_mort</th>\n",
       "      <th>exports</th>\n",
       "      <th>health</th>\n",
       "      <th>imports</th>\n",
       "      <th>income</th>\n",
       "      <th>inflation</th>\n",
       "      <th>life_expec</th>\n",
       "      <th>total_fer</th>\n",
       "      <th>gdpp</th>\n",
       "    </tr>\n",
       "  </thead>\n",
       "  <tbody>\n",
       "    <tr>\n",
       "      <th>0</th>\n",
       "      <td>Afghanistan</td>\n",
       "      <td>90.2</td>\n",
       "      <td>55.30</td>\n",
       "      <td>41.9174</td>\n",
       "      <td>248.297</td>\n",
       "      <td>1610</td>\n",
       "      <td>9.44</td>\n",
       "      <td>56.2</td>\n",
       "      <td>5.82</td>\n",
       "      <td>553</td>\n",
       "    </tr>\n",
       "    <tr>\n",
       "      <th>1</th>\n",
       "      <td>Albania</td>\n",
       "      <td>16.6</td>\n",
       "      <td>1145.20</td>\n",
       "      <td>267.8950</td>\n",
       "      <td>1987.740</td>\n",
       "      <td>9930</td>\n",
       "      <td>4.49</td>\n",
       "      <td>76.3</td>\n",
       "      <td>1.65</td>\n",
       "      <td>4090</td>\n",
       "    </tr>\n",
       "    <tr>\n",
       "      <th>2</th>\n",
       "      <td>Algeria</td>\n",
       "      <td>27.3</td>\n",
       "      <td>1712.64</td>\n",
       "      <td>185.9820</td>\n",
       "      <td>1400.440</td>\n",
       "      <td>12900</td>\n",
       "      <td>16.10</td>\n",
       "      <td>76.5</td>\n",
       "      <td>2.89</td>\n",
       "      <td>4460</td>\n",
       "    </tr>\n",
       "    <tr>\n",
       "      <th>3</th>\n",
       "      <td>Angola</td>\n",
       "      <td>119.0</td>\n",
       "      <td>2199.19</td>\n",
       "      <td>100.6050</td>\n",
       "      <td>1514.370</td>\n",
       "      <td>5900</td>\n",
       "      <td>22.40</td>\n",
       "      <td>60.1</td>\n",
       "      <td>6.16</td>\n",
       "      <td>3530</td>\n",
       "    </tr>\n",
       "    <tr>\n",
       "      <th>4</th>\n",
       "      <td>Antigua and Barbuda</td>\n",
       "      <td>10.3</td>\n",
       "      <td>5551.00</td>\n",
       "      <td>735.6600</td>\n",
       "      <td>7185.800</td>\n",
       "      <td>19100</td>\n",
       "      <td>1.44</td>\n",
       "      <td>76.8</td>\n",
       "      <td>2.13</td>\n",
       "      <td>12200</td>\n",
       "    </tr>\n",
       "  </tbody>\n",
       "</table>\n",
       "</div>"
      ],
      "text/plain": [
       "               country  child_mort  exports    health   imports  income  \\\n",
       "0          Afghanistan        90.2    55.30   41.9174   248.297    1610   \n",
       "1              Albania        16.6  1145.20  267.8950  1987.740    9930   \n",
       "2              Algeria        27.3  1712.64  185.9820  1400.440   12900   \n",
       "3               Angola       119.0  2199.19  100.6050  1514.370    5900   \n",
       "4  Antigua and Barbuda        10.3  5551.00  735.6600  7185.800   19100   \n",
       "\n",
       "   inflation  life_expec  total_fer   gdpp  \n",
       "0       9.44        56.2       5.82    553  \n",
       "1       4.49        76.3       1.65   4090  \n",
       "2      16.10        76.5       2.89   4460  \n",
       "3      22.40        60.1       6.16   3530  \n",
       "4       1.44        76.8       2.13  12200  "
      ]
     },
     "execution_count": 5,
     "metadata": {},
     "output_type": "execute_result"
    }
   ],
   "source": [
    "df.head()"
   ]
  },
  {
   "cell_type": "code",
   "execution_count": 6,
   "metadata": {},
   "outputs": [
    {
     "data": {
      "text/plain": [
       "(167, 10)"
      ]
     },
     "execution_count": 6,
     "metadata": {},
     "output_type": "execute_result"
    }
   ],
   "source": [
    "df.shape"
   ]
  },
  {
   "cell_type": "code",
   "execution_count": 7,
   "metadata": {},
   "outputs": [
    {
     "name": "stdout",
     "output_type": "stream",
     "text": [
      "<class 'pandas.core.frame.DataFrame'>\n",
      "RangeIndex: 167 entries, 0 to 166\n",
      "Data columns (total 10 columns):\n",
      " #   Column      Non-Null Count  Dtype  \n",
      "---  ------      --------------  -----  \n",
      " 0   country     167 non-null    object \n",
      " 1   child_mort  167 non-null    float64\n",
      " 2   exports     167 non-null    float64\n",
      " 3   health      167 non-null    float64\n",
      " 4   imports     167 non-null    float64\n",
      " 5   income      167 non-null    int64  \n",
      " 6   inflation   167 non-null    float64\n",
      " 7   life_expec  167 non-null    float64\n",
      " 8   total_fer   167 non-null    float64\n",
      " 9   gdpp        167 non-null    int64  \n",
      "dtypes: float64(7), int64(2), object(1)\n",
      "memory usage: 13.2+ KB\n"
     ]
    }
   ],
   "source": [
    "df.info()"
   ]
  },
  {
   "cell_type": "code",
   "execution_count": 8,
   "metadata": {},
   "outputs": [
    {
     "data": {
      "text/plain": [
       "country       0.0\n",
       "child_mort    0.0\n",
       "exports       0.0\n",
       "health        0.0\n",
       "imports       0.0\n",
       "income        0.0\n",
       "inflation     0.0\n",
       "life_expec    0.0\n",
       "total_fer     0.0\n",
       "gdpp          0.0\n",
       "dtype: float64"
      ]
     },
     "execution_count": 8,
     "metadata": {},
     "output_type": "execute_result"
    }
   ],
   "source": [
    "round(df.isnull().sum()/len(df)*100,2)"
   ]
  },
  {
   "cell_type": "code",
   "execution_count": 9,
   "metadata": {},
   "outputs": [
    {
     "data": {
      "text/plain": [
       "<matplotlib.axes._subplots.AxesSubplot at 0x18dde7ae640>"
      ]
     },
     "execution_count": 9,
     "metadata": {},
     "output_type": "execute_result"
    },
    {
     "data": {
      "image/png": "[encoded data removed]",
      "text/plain": [
       "<Figure size 1152x720 with 2 Axes>"
      ]
     },
     "metadata": {
      "needs_background": "light"
     },
     "output_type": "display_data"
    }
   ],
   "source": [
    "plt.figure(figsize= (16,10))\n",
    "sns.heatmap(df.corr(), annot= True)"
   ]
  },
  {
   "cell_type": "markdown",
   "metadata": {},
   "source": [
    "- A lot of highly correlated variables are there, hence use of PCA is justified"
   ]
  },
  {
   "cell_type": "code",
   "execution_count": 10,
   "metadata": {},
   "outputs": [
    {
     "data": {
      "text/html": [
       "<div>\n",
       "<style scoped>\n",
       "    .dataframe tbody tr th:only-of-type {\n",
       "        vertical-align: middle;\n",
       "    }\n",
       "\n",
       "    .dataframe tbody tr th {\n",
       "        vertical-align: top;\n",
       "    }\n",
       "\n",
       "    .dataframe thead th {\n",
       "        text-align: right;\n",
       "    }\n",
       "</style>\n",
       "<table border=\"1\" class=\"dataframe\">\n",
       "  <thead>\n",
       "    <tr style=\"text-align: right;\">\n",
       "      <th></th>\n",
       "      <th>child_mort</th>\n",
       "      <th>exports</th>\n",
       "      <th>health</th>\n",
       "      <th>imports</th>\n",
       "      <th>income</th>\n",
       "      <th>inflation</th>\n",
       "      <th>life_expec</th>\n",
       "      <th>total_fer</th>\n",
       "      <th>gdpp</th>\n",
       "    </tr>\n",
       "  </thead>\n",
       "  <tbody>\n",
       "    <tr>\n",
       "      <th>0</th>\n",
       "      <td>90.2</td>\n",
       "      <td>55.30</td>\n",
       "      <td>41.9174</td>\n",
       "      <td>248.297</td>\n",
       "      <td>1610</td>\n",
       "      <td>9.44</td>\n",
       "      <td>56.2</td>\n",
       "      <td>5.82</td>\n",
       "      <td>553</td>\n",
       "    </tr>\n",
       "    <tr>\n",
       "      <th>1</th>\n",
       "      <td>16.6</td>\n",
       "      <td>1145.20</td>\n",
       "      <td>267.8950</td>\n",
       "      <td>1987.740</td>\n",
       "      <td>9930</td>\n",
       "      <td>4.49</td>\n",
       "      <td>76.3</td>\n",
       "      <td>1.65</td>\n",
       "      <td>4090</td>\n",
       "    </tr>\n",
       "    <tr>\n",
       "      <th>2</th>\n",
       "      <td>27.3</td>\n",
       "      <td>1712.64</td>\n",
       "      <td>185.9820</td>\n",
       "      <td>1400.440</td>\n",
       "      <td>12900</td>\n",
       "      <td>16.10</td>\n",
       "      <td>76.5</td>\n",
       "      <td>2.89</td>\n",
       "      <td>4460</td>\n",
       "    </tr>\n",
       "    <tr>\n",
       "      <th>3</th>\n",
       "      <td>119.0</td>\n",
       "      <td>2199.19</td>\n",
       "      <td>100.6050</td>\n",
       "      <td>1514.370</td>\n",
       "      <td>5900</td>\n",
       "      <td>22.40</td>\n",
       "      <td>60.1</td>\n",
       "      <td>6.16</td>\n",
       "      <td>3530</td>\n",
       "    </tr>\n",
       "    <tr>\n",
       "      <th>4</th>\n",
       "      <td>10.3</td>\n",
       "      <td>5551.00</td>\n",
       "      <td>735.6600</td>\n",
       "      <td>7185.800</td>\n",
       "      <td>19100</td>\n",
       "      <td>1.44</td>\n",
       "      <td>76.8</td>\n",
       "      <td>2.13</td>\n",
       "      <td>12200</td>\n",
       "    </tr>\n",
       "  </tbody>\n",
       "</table>\n",
       "</div>"
      ],
      "text/plain": [
       "   child_mort  exports    health   imports  income  inflation  life_expec  \\\n",
       "0        90.2    55.30   41.9174   248.297    1610       9.44        56.2   \n",
       "1        16.6  1145.20  267.8950  1987.740    9930       4.49        76.3   \n",
       "2        27.3  1712.64  185.9820  1400.440   12900      16.10        76.5   \n",
       "3       119.0  2199.19  100.6050  1514.370    5900      22.40        60.1   \n",
       "4        10.3  5551.00  735.6600  7185.800   19100       1.44        76.8   \n",
       "\n",
       "   total_fer   gdpp  \n",
       "0       5.82    553  \n",
       "1       1.65   4090  \n",
       "2       2.89   4460  \n",
       "3       6.16   3530  \n",
       "4       2.13  12200  "
      ]
     },
     "execution_count": 10,
     "metadata": {},
     "output_type": "execute_result"
    }
   ],
   "source": [
    "df_m = df.drop(['country'],axis =1)\n",
    "df_m.head()"
   ]
  },
  {
   "cell_type": "code",
   "execution_count": 11,
   "metadata": {},
   "outputs": [],
   "source": [
    "# The variables are in different scales we need to perform the scaling \n",
    "from sklearn.preprocessing import StandardScaler\n",
    "Scaler = StandardScaler()\n",
    "df_2 = Scaler.fit_transform(df_m)"
   ]
  },
  {
   "cell_type": "code",
   "execution_count": 12,
   "metadata": {},
   "outputs": [
    {
     "data": {
      "text/plain": [
       "array([[ 1.29153238, -0.4110113 , -0.56503989, ..., -1.61909203,\n",
       "         1.90288227, -0.67917961],\n",
       "       [-0.5389489 , -0.35019096, -0.43921769, ...,  0.64786643,\n",
       "        -0.85997281, -0.48562324],\n",
       "       [-0.27283273, -0.31852577, -0.48482608, ...,  0.67042323,\n",
       "        -0.0384044 , -0.46537561],\n",
       "       ...,\n",
       "       [-0.37231541, -0.36146329, -0.53848844, ...,  0.28695762,\n",
       "        -0.66120626, -0.63775406],\n",
       "       [ 0.44841668, -0.39216643, -0.55059641, ..., -0.34463279,\n",
       "         1.14094382, -0.63775406],\n",
       "       [ 1.11495062, -0.38395214, -0.54049845, ..., -2.09278484,\n",
       "         1.6246091 , -0.62954556]])"
      ]
     },
     "execution_count": 12,
     "metadata": {},
     "output_type": "execute_result"
    }
   ],
   "source": [
    "df_2"
   ]
  },
  {
   "cell_type": "code",
   "execution_count": 13,
   "metadata": {},
   "outputs": [],
   "source": [
    "# Importing PCA module\n",
    "from sklearn.decomposition import PCA\n",
    "pca = PCA(svd_solver= 'randomized', random_state= 42)"
   ]
  },
  {
   "cell_type": "code",
   "execution_count": 14,
   "metadata": {},
   "outputs": [
    {
     "data": {
      "text/plain": [
       "PCA(random_state=42, svd_solver='randomized')"
      ]
     },
     "execution_count": 14,
     "metadata": {},
     "output_type": "execute_result"
    }
   ],
   "source": [
    "pca.fit(df_2)"
   ]
  },
  {
   "cell_type": "code",
   "execution_count": 15,
   "metadata": {},
   "outputs": [
    {
     "data": {
      "text/plain": [
       "array([5.89372984e-01, 1.84451685e-01, 9.91147170e-02, 6.07227801e-02,\n",
       "       3.02917253e-02, 2.45982702e-02, 9.39743701e-03, 1.55641971e-03,\n",
       "       4.93981394e-04])"
      ]
     },
     "execution_count": 15,
     "metadata": {},
     "output_type": "execute_result"
    }
   ],
   "source": [
    "pca.explained_variance_ratio_"
   ]
  },
  {
   "cell_type": "markdown",
   "metadata": {},
   "source": [
    "- Here we can see that 77% of the information is provided by 2 varibales"
   ]
  },
  {
   "cell_type": "code",
   "execution_count": 16,
   "metadata": {},
   "outputs": [
    {
     "data": {
      "text/plain": [
       "array([[-0.31639186,  0.34288671,  0.358535  ,  0.34486492,  0.38004113,\n",
       "        -0.14308531,  0.34385651, -0.30284224,  0.39998795],\n",
       "       [ 0.47626735,  0.39731091,  0.1550529 ,  0.37078075,  0.12838448,\n",
       "         0.22126089, -0.36981973,  0.4597152 ,  0.2006241 ],\n",
       "       [-0.15001225, -0.03057367, -0.07570322, -0.07217386,  0.14576421,\n",
       "         0.94841868,  0.19675173, -0.07783431,  0.01033941],\n",
       "       [-0.14805195,  0.44942527, -0.59971228,  0.46179779, -0.15480592,\n",
       "        -0.00762798, -0.01839465, -0.21392805, -0.36477239],\n",
       "       [ 0.1019948 , -0.03853829, -0.49319984, -0.2527867 ,  0.79407469,\n",
       "        -0.13642345, -0.15404105, -0.02033568,  0.08750149],\n",
       "       [ 0.19658519, -0.03891112,  0.18069888, -0.01217988, -0.03814681,\n",
       "         0.10840284, -0.58600986, -0.75390075,  0.04538167],\n",
       "       [ 0.76126725, -0.01366973, -0.06461567,  0.02718244, -0.02311312,\n",
       "        -0.02207663,  0.58120846, -0.27314534, -0.04402264],\n",
       "       [ 0.00644411, -0.05526371,  0.43007213,  0.1311355 ,  0.3938113 ,\n",
       "        -0.00607016,  0.002966  ,  0.03429334, -0.79902242],\n",
       "       [-0.00495137, -0.71792388, -0.13034593,  0.66568664,  0.07901102,\n",
       "         0.01128137, -0.03159406,  0.02368185,  0.12846398]])"
      ]
     },
     "execution_count": 16,
     "metadata": {},
     "output_type": "execute_result"
    }
   ],
   "source": [
    "pca.components_"
   ]
  },
  {
   "cell_type": "code",
   "execution_count": 17,
   "metadata": {},
   "outputs": [
    {
     "data": {
      "text/plain": [
       "[<matplotlib.lines.Line2D at 0x18ddf9c7160>]"
      ]
     },
     "execution_count": 17,
     "metadata": {},
     "output_type": "execute_result"
    },
    {
     "data": {
      "image/png": "[encoded data removed]",
      "text/plain": [
       "<Figure size 432x288 with 1 Axes>"
      ]
     },
     "metadata": {
      "needs_background": "light"
     },
     "output_type": "display_data"
    }
   ],
   "source": [
    "# making the scree plot \n",
    "plt.plot(np.cumsum(pca.explained_variance_ratio_))"
   ]
  },
  {
   "cell_type": "code",
   "execution_count": 28,
   "metadata": {},
   "outputs": [
    {
     "data": {
      "text/html": [
       "<div>\n",
       "<style scoped>\n",
       "    .dataframe tbody tr th:only-of-type {\n",
       "        vertical-align: middle;\n",
       "    }\n",
       "\n",
       "    .dataframe tbody tr th {\n",
       "        vertical-align: top;\n",
       "    }\n",
       "\n",
       "    .dataframe thead th {\n",
       "        text-align: right;\n",
       "    }\n",
       "</style>\n",
       "<table border=\"1\" class=\"dataframe\">\n",
       "  <thead>\n",
       "    <tr style=\"text-align: right;\">\n",
       "      <th></th>\n",
       "      <th>PC1</th>\n",
       "      <th>PC2</th>\n",
       "      <th>PC3</th>\n",
       "    </tr>\n",
       "  </thead>\n",
       "  <tbody>\n",
       "    <tr>\n",
       "      <th>0</th>\n",
       "      <td>-2.6356</td>\n",
       "      <td>1.4723</td>\n",
       "      <td>-0.5495</td>\n",
       "    </tr>\n",
       "    <tr>\n",
       "      <th>1</th>\n",
       "      <td>-0.0242</td>\n",
       "      <td>-1.4299</td>\n",
       "      <td>-0.0141</td>\n",
       "    </tr>\n",
       "    <tr>\n",
       "      <th>2</th>\n",
       "      <td>-0.4596</td>\n",
       "      <td>-0.6755</td>\n",
       "      <td>0.9594</td>\n",
       "    </tr>\n",
       "    <tr>\n",
       "      <th>3</th>\n",
       "      <td>-2.7226</td>\n",
       "      <td>2.1723</td>\n",
       "      <td>0.6002</td>\n",
       "    </tr>\n",
       "    <tr>\n",
       "      <th>4</th>\n",
       "      <td>0.6486</td>\n",
       "      <td>-1.0234</td>\n",
       "      <td>-0.2574</td>\n",
       "    </tr>\n",
       "    <tr>\n",
       "      <th>...</th>\n",
       "      <td>...</td>\n",
       "      <td>...</td>\n",
       "      <td>...</td>\n",
       "    </tr>\n",
       "    <tr>\n",
       "      <th>162</th>\n",
       "      <td>-1.1752</td>\n",
       "      <td>-0.2757</td>\n",
       "      <td>-0.6671</td>\n",
       "    </tr>\n",
       "    <tr>\n",
       "      <th>163</th>\n",
       "      <td>-0.3142</td>\n",
       "      <td>-0.0163</td>\n",
       "      <td>3.6803</td>\n",
       "    </tr>\n",
       "    <tr>\n",
       "      <th>164</th>\n",
       "      <td>-0.5944</td>\n",
       "      <td>-1.0763</td>\n",
       "      <td>0.5289</td>\n",
       "    </tr>\n",
       "    <tr>\n",
       "      <th>165</th>\n",
       "      <td>-1.8024</td>\n",
       "      <td>0.5887</td>\n",
       "      <td>1.1809</td>\n",
       "    </tr>\n",
       "    <tr>\n",
       "      <th>166</th>\n",
       "      <td>-2.6445</td>\n",
       "      <td>1.5720</td>\n",
       "      <td>-0.1747</td>\n",
       "    </tr>\n",
       "  </tbody>\n",
       "</table>\n",
       "<p>167 rows × 3 columns</p>\n",
       "</div>"
      ],
      "text/plain": [
       "        PC1     PC2     PC3\n",
       "0   -2.6356  1.4723 -0.5495\n",
       "1   -0.0242 -1.4299 -0.0141\n",
       "2   -0.4596 -0.6755  0.9594\n",
       "3   -2.7226  2.1723  0.6002\n",
       "4    0.6486 -1.0234 -0.2574\n",
       "..      ...     ...     ...\n",
       "162 -1.1752 -0.2757 -0.6671\n",
       "163 -0.3142 -0.0163  3.6803\n",
       "164 -0.5944 -1.0763  0.5289\n",
       "165 -1.8024  0.5887  1.1809\n",
       "166 -2.6445  1.5720 -0.1747\n",
       "\n",
       "[167 rows x 3 columns]"
      ]
     },
     "execution_count": 28,
     "metadata": {},
     "output_type": "execute_result"
    }
   ],
   "source": [
    "pcFinal=PCA(n_components=3)\n",
    "xnew=pcFinal.fit_transform(df_2).round(4)\n",
    "dfnew=pd.DataFrame(xnew,columns=['PC1','PC2','PC3'])\n",
    "dfnewH=dfnew.copy()\n",
    "dfnew\n"
   ]
  },
  {
   "cell_type": "code",
   "execution_count": 29,
   "metadata": {},
   "outputs": [],
   "source": [
    "# Lets check the Hopkins measure\n",
    "from sklearn.neighbors import NearestNeighbors\n",
    "from random import sample\n",
    "from numpy.random import uniform\n",
    "import numpy as np\n",
    "from math import isnan\n",
    " \n",
    "def hopkins(X):\n",
    "    d = X.shape[1]\n",
    "    #d = len(vars) # columns\n",
    "    n = len(X) # rows\n",
    "    m = int(0.1 * n) \n",
    "    nbrs = NearestNeighbors(n_neighbors=1).fit(X.values)\n",
    " \n",
    "    rand_X = sample(range(0, n, 1), m)\n",
    " \n",
    "    ujd = []\n",
    "    wjd = []\n",
    "    for j in range(0, m):\n",
    "        u_dist, _ = nbrs.kneighbors(uniform(np.amin(X,axis=0),np.amax(X,axis=0),d).reshape(1, -1), 2, return_distance=True)\n",
    "        ujd.append(u_dist[0][1])\n",
    "        w_dist, _ = nbrs.kneighbors(X.iloc[rand_X[j]].values.reshape(1, -1), 2, return_distance=True)\n",
    "        wjd.append(w_dist[0][1])\n",
    " \n",
    "    H = sum(ujd) / (sum(ujd) + sum(wjd))\n",
    "    if isnan(H):\n",
    "        print(ujd, wjd)\n",
    "        H = 0\n",
    " \n",
    "    return H"
   ]
  },
  {
   "cell_type": "code",
   "execution_count": 35,
   "metadata": {},
   "outputs": [
    {
     "data": {
      "text/plain": [
       "0.9421976268416437"
      ]
     },
     "execution_count": 35,
     "metadata": {},
     "output_type": "execute_result"
    }
   ],
   "source": [
    "# Here we check wether the PCA is good for clustering or not\n",
    "hopkins(dfnew)"
   ]
  },
  {
   "cell_type": "code",
   "execution_count": 37,
   "metadata": {},
   "outputs": [
    {
     "data": {
      "text/plain": [
       "[<matplotlib.lines.Line2D at 0x18ddf1f43d0>]"
      ]
     },
     "execution_count": 37,
     "metadata": {},
     "output_type": "execute_result"
    },
    {
     "data": {
      "image/png": "[encoded data removed]",
      "text/plain": [
       "<Figure size 432x288 with 1 Axes>"
      ]
     },
     "metadata": {
      "needs_background": "light"
     },
     "output_type": "display_data"
    }
   ],
   "source": [
    "#Kmean clustering\n",
    "from sklearn.metrics import silhouette_score\n",
    "from sklearn.cluster import KMeans\n",
    "\n",
    "# Performing the silhoutte score for the Kmeans\n",
    "sil = []\n",
    "for k in range(2,10):\n",
    "    kmeans = KMeans(n_clusters  = k,max_iter=50).fit(dfnew)\n",
    "    sil.append([k,silhouette_score(dfnew, kmeans.labels_)])\n",
    "\n",
    "plt.plot(pd.DataFrame(sil)[0],pd.DataFrame(sil)[1])"
   ]
  },
  {
   "cell_type": "code",
   "execution_count": 38,
   "metadata": {},
   "outputs": [
    {
     "data": {
      "text/plain": [
       "[<matplotlib.lines.Line2D at 0x18de0a7fe80>]"
      ]
     },
     "execution_count": 38,
     "metadata": {},
     "output_type": "execute_result"
    },
    {
     "data": {
      "image/png": "[encoded data removed]",
      "text/plain": [
       "<Figure size 432x288 with 1 Axes>"
      ]
     },
     "metadata": {
      "needs_background": "light"
     },
     "output_type": "display_data"
    }
   ],
   "source": [
    "# Performing the elbow curve\n",
    "ssd = []\n",
    "for k in range(2,10):\n",
    "    kmeans = KMeans(n_clusters= k).fit(dfnew)\n",
    "    ssd.append([k, kmeans.inertia_])\n",
    "plt.plot(pd.DataFrame(ssd)[0],pd.DataFrame(ssd)[1])"
   ]
  },
  {
   "cell_type": "code",
   "execution_count": 40,
   "metadata": {},
   "outputs": [
    {
     "data": {
      "text/html": [
       "<div>\n",
       "<style scoped>\n",
       "    .dataframe tbody tr th:only-of-type {\n",
       "        vertical-align: middle;\n",
       "    }\n",
       "\n",
       "    .dataframe tbody tr th {\n",
       "        vertical-align: top;\n",
       "    }\n",
       "\n",
       "    .dataframe thead th {\n",
       "        text-align: right;\n",
       "    }\n",
       "</style>\n",
       "<table border=\"1\" class=\"dataframe\">\n",
       "  <thead>\n",
       "    <tr style=\"text-align: right;\">\n",
       "      <th></th>\n",
       "      <th>PC1</th>\n",
       "      <th>PC2</th>\n",
       "      <th>PC3</th>\n",
       "      <th>country</th>\n",
       "    </tr>\n",
       "  </thead>\n",
       "  <tbody>\n",
       "    <tr>\n",
       "      <th>0</th>\n",
       "      <td>-2.6356</td>\n",
       "      <td>1.4723</td>\n",
       "      <td>-0.5495</td>\n",
       "      <td>Afghanistan</td>\n",
       "    </tr>\n",
       "    <tr>\n",
       "      <th>1</th>\n",
       "      <td>-0.0242</td>\n",
       "      <td>-1.4299</td>\n",
       "      <td>-0.0141</td>\n",
       "      <td>Albania</td>\n",
       "    </tr>\n",
       "    <tr>\n",
       "      <th>2</th>\n",
       "      <td>-0.4596</td>\n",
       "      <td>-0.6755</td>\n",
       "      <td>0.9594</td>\n",
       "      <td>Algeria</td>\n",
       "    </tr>\n",
       "    <tr>\n",
       "      <th>3</th>\n",
       "      <td>-2.7226</td>\n",
       "      <td>2.1723</td>\n",
       "      <td>0.6002</td>\n",
       "      <td>Angola</td>\n",
       "    </tr>\n",
       "    <tr>\n",
       "      <th>4</th>\n",
       "      <td>0.6486</td>\n",
       "      <td>-1.0234</td>\n",
       "      <td>-0.2574</td>\n",
       "      <td>Antigua and Barbuda</td>\n",
       "    </tr>\n",
       "  </tbody>\n",
       "</table>\n",
       "</div>"
      ],
      "text/plain": [
       "      PC1     PC2     PC3              country\n",
       "0 -2.6356  1.4723 -0.5495          Afghanistan\n",
       "1 -0.0242 -1.4299 -0.0141              Albania\n",
       "2 -0.4596 -0.6755  0.9594              Algeria\n",
       "3 -2.7226  2.1723  0.6002               Angola\n",
       "4  0.6486 -1.0234 -0.2574  Antigua and Barbuda"
      ]
     },
     "execution_count": 40,
     "metadata": {},
     "output_type": "execute_result"
    }
   ],
   "source": [
    "#As 3 is close to the local maxima at 4 for the silhouette_score plot adnd also shows deviation in elbow curve, taking n=3 for further clustering\n",
    "model_kmean = KMeans(n_clusters =3, random_state = 50).fit(dfnew)\n",
    "dfnew['country']=df['country']\n",
    "dfnew.head()"
   ]
  },
  {
   "cell_type": "code",
   "execution_count": 42,
   "metadata": {},
   "outputs": [
    {
     "data": {
      "text/html": [
       "<div>\n",
       "<style scoped>\n",
       "    .dataframe tbody tr th:only-of-type {\n",
       "        vertical-align: middle;\n",
       "    }\n",
       "\n",
       "    .dataframe tbody tr th {\n",
       "        vertical-align: top;\n",
       "    }\n",
       "\n",
       "    .dataframe thead th {\n",
       "        text-align: right;\n",
       "    }\n",
       "</style>\n",
       "<table border=\"1\" class=\"dataframe\">\n",
       "  <thead>\n",
       "    <tr style=\"text-align: right;\">\n",
       "      <th></th>\n",
       "      <th>PC1</th>\n",
       "      <th>PC2</th>\n",
       "      <th>PC3</th>\n",
       "      <th>country</th>\n",
       "      <th>KClusterID</th>\n",
       "    </tr>\n",
       "  </thead>\n",
       "  <tbody>\n",
       "    <tr>\n",
       "      <th>0</th>\n",
       "      <td>-2.6356</td>\n",
       "      <td>1.4723</td>\n",
       "      <td>-0.5495</td>\n",
       "      <td>Afghanistan</td>\n",
       "      <td>2</td>\n",
       "    </tr>\n",
       "    <tr>\n",
       "      <th>1</th>\n",
       "      <td>-0.0242</td>\n",
       "      <td>-1.4299</td>\n",
       "      <td>-0.0141</td>\n",
       "      <td>Albania</td>\n",
       "      <td>0</td>\n",
       "    </tr>\n",
       "    <tr>\n",
       "      <th>2</th>\n",
       "      <td>-0.4596</td>\n",
       "      <td>-0.6755</td>\n",
       "      <td>0.9594</td>\n",
       "      <td>Algeria</td>\n",
       "      <td>0</td>\n",
       "    </tr>\n",
       "    <tr>\n",
       "      <th>3</th>\n",
       "      <td>-2.7226</td>\n",
       "      <td>2.1723</td>\n",
       "      <td>0.6002</td>\n",
       "      <td>Angola</td>\n",
       "      <td>2</td>\n",
       "    </tr>\n",
       "    <tr>\n",
       "      <th>4</th>\n",
       "      <td>0.6486</td>\n",
       "      <td>-1.0234</td>\n",
       "      <td>-0.2574</td>\n",
       "      <td>Antigua and Barbuda</td>\n",
       "      <td>0</td>\n",
       "    </tr>\n",
       "  </tbody>\n",
       "</table>\n",
       "</div>"
      ],
      "text/plain": [
       "      PC1     PC2     PC3              country  KClusterID\n",
       "0 -2.6356  1.4723 -0.5495          Afghanistan           2\n",
       "1 -0.0242 -1.4299 -0.0141              Albania           0\n",
       "2 -0.4596 -0.6755  0.9594              Algeria           0\n",
       "3 -2.7226  2.1723  0.6002               Angola           2\n",
       "4  0.6486 -1.0234 -0.2574  Antigua and Barbuda           0"
      ]
     },
     "execution_count": 42,
     "metadata": {},
     "output_type": "execute_result"
    }
   ],
   "source": [
    "dat_km = pd.concat([dfnew.reset_index().drop('index',axis=1),pd.Series(model_kmean.labels_).reset_index().drop('index',axis=1)],axis=1)\n",
    "dat_km.columns = ['PC1', 'PC2', 'PC3','country','KClusterID']\n",
    "dat_km.head()"
   ]
  },
  {
   "cell_type": "code",
   "execution_count": 43,
   "metadata": {},
   "outputs": [
    {
     "data": {
      "text/plain": [
       "<matplotlib.axes._subplots.AxesSubplot at 0x18de12fb0d0>"
      ]
     },
     "execution_count": 43,
     "metadata": {},
     "output_type": "execute_result"
    },
    {
     "data": {
      "image/png": "[encoded data removed]",
      "text/plain": [
       "<Figure size 432x288 with 1 Axes>"
      ]
     },
     "metadata": {
      "needs_background": "light"
     },
     "output_type": "display_data"
    }
   ],
   "source": [
    "dat_km['KClusterID'].value_counts().plot(kind = 'bar')"
   ]
  },
  {
   "cell_type": "code",
   "execution_count": 45,
   "metadata": {},
   "outputs": [
    {
     "data": {
      "text/html": [
       "<div>\n",
       "<style scoped>\n",
       "    .dataframe tbody tr th:only-of-type {\n",
       "        vertical-align: middle;\n",
       "    }\n",
       "\n",
       "    .dataframe tbody tr th {\n",
       "        vertical-align: top;\n",
       "    }\n",
       "\n",
       "    .dataframe thead th {\n",
       "        text-align: right;\n",
       "    }\n",
       "</style>\n",
       "<table border=\"1\" class=\"dataframe\">\n",
       "  <thead>\n",
       "    <tr style=\"text-align: right;\">\n",
       "      <th></th>\n",
       "      <th>country</th>\n",
       "      <th>child_mort</th>\n",
       "      <th>exports</th>\n",
       "      <th>health</th>\n",
       "      <th>imports</th>\n",
       "      <th>income</th>\n",
       "      <th>inflation</th>\n",
       "      <th>life_expec</th>\n",
       "      <th>total_fer</th>\n",
       "      <th>gdpp</th>\n",
       "      <th>KClusterID</th>\n",
       "    </tr>\n",
       "  </thead>\n",
       "  <tbody>\n",
       "    <tr>\n",
       "      <th>0</th>\n",
       "      <td>Afghanistan</td>\n",
       "      <td>90.2</td>\n",
       "      <td>55.30</td>\n",
       "      <td>41.9174</td>\n",
       "      <td>248.297</td>\n",
       "      <td>1610</td>\n",
       "      <td>9.44</td>\n",
       "      <td>56.2</td>\n",
       "      <td>5.82</td>\n",
       "      <td>553</td>\n",
       "      <td>2</td>\n",
       "    </tr>\n",
       "    <tr>\n",
       "      <th>1</th>\n",
       "      <td>Albania</td>\n",
       "      <td>16.6</td>\n",
       "      <td>1145.20</td>\n",
       "      <td>267.8950</td>\n",
       "      <td>1987.740</td>\n",
       "      <td>9930</td>\n",
       "      <td>4.49</td>\n",
       "      <td>76.3</td>\n",
       "      <td>1.65</td>\n",
       "      <td>4090</td>\n",
       "      <td>0</td>\n",
       "    </tr>\n",
       "    <tr>\n",
       "      <th>2</th>\n",
       "      <td>Algeria</td>\n",
       "      <td>27.3</td>\n",
       "      <td>1712.64</td>\n",
       "      <td>185.9820</td>\n",
       "      <td>1400.440</td>\n",
       "      <td>12900</td>\n",
       "      <td>16.10</td>\n",
       "      <td>76.5</td>\n",
       "      <td>2.89</td>\n",
       "      <td>4460</td>\n",
       "      <td>0</td>\n",
       "    </tr>\n",
       "    <tr>\n",
       "      <th>3</th>\n",
       "      <td>Angola</td>\n",
       "      <td>119.0</td>\n",
       "      <td>2199.19</td>\n",
       "      <td>100.6050</td>\n",
       "      <td>1514.370</td>\n",
       "      <td>5900</td>\n",
       "      <td>22.40</td>\n",
       "      <td>60.1</td>\n",
       "      <td>6.16</td>\n",
       "      <td>3530</td>\n",
       "      <td>2</td>\n",
       "    </tr>\n",
       "    <tr>\n",
       "      <th>4</th>\n",
       "      <td>Antigua and Barbuda</td>\n",
       "      <td>10.3</td>\n",
       "      <td>5551.00</td>\n",
       "      <td>735.6600</td>\n",
       "      <td>7185.800</td>\n",
       "      <td>19100</td>\n",
       "      <td>1.44</td>\n",
       "      <td>76.8</td>\n",
       "      <td>2.13</td>\n",
       "      <td>12200</td>\n",
       "      <td>0</td>\n",
       "    </tr>\n",
       "  </tbody>\n",
       "</table>\n",
       "</div>"
      ],
      "text/plain": [
       "               country  child_mort  exports    health   imports  income  \\\n",
       "0          Afghanistan        90.2    55.30   41.9174   248.297    1610   \n",
       "1              Albania        16.6  1145.20  267.8950  1987.740    9930   \n",
       "2              Algeria        27.3  1712.64  185.9820  1400.440   12900   \n",
       "3               Angola       119.0  2199.19  100.6050  1514.370    5900   \n",
       "4  Antigua and Barbuda        10.3  5551.00  735.6600  7185.800   19100   \n",
       "\n",
       "   inflation  life_expec  total_fer   gdpp  KClusterID  \n",
       "0       9.44        56.2       5.82    553           2  \n",
       "1       4.49        76.3       1.65   4090           0  \n",
       "2      16.10        76.5       2.89   4460           0  \n",
       "3      22.40        60.1       6.16   3530           2  \n",
       "4       1.44        76.8       2.13  12200           0  "
      ]
     },
     "execution_count": 45,
     "metadata": {},
     "output_type": "execute_result"
    }
   ],
   "source": [
    "#merging the original data\n",
    "Final=pd.merge(df,dat_km[['country','KClusterID']], on='country')\n",
    "Final.head()"
   ]
  },
  {
   "cell_type": "code",
   "execution_count": 46,
   "metadata": {},
   "outputs": [],
   "source": [
    "from scipy.cluster.hierarchy import linkage\n",
    "from scipy.cluster.hierarchy import dendrogram\n",
    "from scipy.cluster.hierarchy import cut_tree"
   ]
  },
  {
   "cell_type": "code",
   "execution_count": 47,
   "metadata": {},
   "outputs": [
    {
     "data": {
      "image/png": "[encoded data removed]",
      "text/plain": [
       "<Figure size 432x288 with 1 Axes>"
      ]
     },
     "metadata": {
      "needs_background": "light"
     },
     "output_type": "display_data"
    },
    {
     "data": {
      "image/png": "[encoded data removed]",
      "text/plain": [
       "<Figure size 432x288 with 1 Axes>"
      ]
     },
     "metadata": {
      "needs_background": "light"
     },
     "output_type": "display_data"
    }
   ],
   "source": [
    "# Performing single  linkage\n",
    "singlecluster = linkage(dfnewH, method = \"single\",metric = 'euclidean')\n",
    "dendrogram(singlecluster)\n",
    "plt.title('Single linkage')\n",
    "plt.show()\n",
    "\n",
    "# Performing complete linkage\n",
    "completecluster = linkage(dfnewH, method = \"complete\",metric = 'euclidean')\n",
    "dendrogram(completecluster)\n",
    "plt.title('Complete linkage')\n",
    "plt.show()"
   ]
  },
  {
   "cell_type": "code",
   "execution_count": 48,
   "metadata": {},
   "outputs": [
    {
     "data": {
      "text/plain": [
       "array([0, 0, 0, 0, 0, 0, 0, 0, 1, 0, 0, 0, 0, 0, 0, 1, 0, 0, 0, 0, 0, 0,\n",
       "       0, 0, 0, 0, 0, 0, 0, 0, 0, 0, 0, 0, 0, 0, 0, 0, 0, 0, 0, 0, 0, 0,\n",
       "       1, 0, 0, 0, 0, 0, 0, 0, 0, 0, 0, 0, 0, 0, 0, 0, 0, 0, 0, 0, 0, 0,\n",
       "       0, 0, 0, 0, 0, 0, 0, 1, 0, 0, 0, 0, 0, 0, 0, 0, 0, 0, 0, 0, 0, 0,\n",
       "       0, 0, 0, 2, 0, 0, 0, 0, 0, 0, 0, 0, 0, 0, 0, 0, 0, 0, 0, 0, 0, 0,\n",
       "       1, 0, 0, 3, 1, 0, 0, 0, 0, 0, 0, 0, 0, 1, 0, 0, 0, 0, 0, 0, 0, 0,\n",
       "       0, 1, 0, 0, 0, 0, 0, 0, 0, 0, 0, 0, 1, 1, 0, 0, 0, 0, 0, 0, 0, 0,\n",
       "       0, 0, 0, 0, 0, 1, 0, 0, 0, 0, 0, 0, 0])"
      ]
     },
     "execution_count": 48,
     "metadata": {},
     "output_type": "execute_result"
    }
   ],
   "source": [
    "cluster_labels=cut_tree(completecluster,n_clusters=4).reshape(-1,)\n",
    "cluster_labels"
   ]
  },
  {
   "cell_type": "code",
   "execution_count": 49,
   "metadata": {},
   "outputs": [
    {
     "data": {
      "text/html": [
       "<div>\n",
       "<style scoped>\n",
       "    .dataframe tbody tr th:only-of-type {\n",
       "        vertical-align: middle;\n",
       "    }\n",
       "\n",
       "    .dataframe tbody tr th {\n",
       "        vertical-align: top;\n",
       "    }\n",
       "\n",
       "    .dataframe thead th {\n",
       "        text-align: right;\n",
       "    }\n",
       "</style>\n",
       "<table border=\"1\" class=\"dataframe\">\n",
       "  <thead>\n",
       "    <tr style=\"text-align: right;\">\n",
       "      <th></th>\n",
       "      <th>country</th>\n",
       "      <th>child_mort</th>\n",
       "      <th>exports</th>\n",
       "      <th>health</th>\n",
       "      <th>imports</th>\n",
       "      <th>income</th>\n",
       "      <th>inflation</th>\n",
       "      <th>life_expec</th>\n",
       "      <th>total_fer</th>\n",
       "      <th>gdpp</th>\n",
       "      <th>KClusterID</th>\n",
       "      <th>HclusterID</th>\n",
       "    </tr>\n",
       "  </thead>\n",
       "  <tbody>\n",
       "    <tr>\n",
       "      <th>0</th>\n",
       "      <td>Afghanistan</td>\n",
       "      <td>90.2</td>\n",
       "      <td>55.300</td>\n",
       "      <td>41.9174</td>\n",
       "      <td>248.297</td>\n",
       "      <td>1610</td>\n",
       "      <td>9.440</td>\n",
       "      <td>56.2</td>\n",
       "      <td>5.82</td>\n",
       "      <td>553</td>\n",
       "      <td>2</td>\n",
       "      <td>0</td>\n",
       "    </tr>\n",
       "    <tr>\n",
       "      <th>1</th>\n",
       "      <td>Albania</td>\n",
       "      <td>16.6</td>\n",
       "      <td>1145.200</td>\n",
       "      <td>267.8950</td>\n",
       "      <td>1987.740</td>\n",
       "      <td>9930</td>\n",
       "      <td>4.490</td>\n",
       "      <td>76.3</td>\n",
       "      <td>1.65</td>\n",
       "      <td>4090</td>\n",
       "      <td>0</td>\n",
       "      <td>0</td>\n",
       "    </tr>\n",
       "    <tr>\n",
       "      <th>2</th>\n",
       "      <td>Algeria</td>\n",
       "      <td>27.3</td>\n",
       "      <td>1712.640</td>\n",
       "      <td>185.9820</td>\n",
       "      <td>1400.440</td>\n",
       "      <td>12900</td>\n",
       "      <td>16.100</td>\n",
       "      <td>76.5</td>\n",
       "      <td>2.89</td>\n",
       "      <td>4460</td>\n",
       "      <td>0</td>\n",
       "      <td>0</td>\n",
       "    </tr>\n",
       "    <tr>\n",
       "      <th>3</th>\n",
       "      <td>Angola</td>\n",
       "      <td>119.0</td>\n",
       "      <td>2199.190</td>\n",
       "      <td>100.6050</td>\n",
       "      <td>1514.370</td>\n",
       "      <td>5900</td>\n",
       "      <td>22.400</td>\n",
       "      <td>60.1</td>\n",
       "      <td>6.16</td>\n",
       "      <td>3530</td>\n",
       "      <td>2</td>\n",
       "      <td>0</td>\n",
       "    </tr>\n",
       "    <tr>\n",
       "      <th>4</th>\n",
       "      <td>Antigua and Barbuda</td>\n",
       "      <td>10.3</td>\n",
       "      <td>5551.000</td>\n",
       "      <td>735.6600</td>\n",
       "      <td>7185.800</td>\n",
       "      <td>19100</td>\n",
       "      <td>1.440</td>\n",
       "      <td>76.8</td>\n",
       "      <td>2.13</td>\n",
       "      <td>12200</td>\n",
       "      <td>0</td>\n",
       "      <td>0</td>\n",
       "    </tr>\n",
       "    <tr>\n",
       "      <th>5</th>\n",
       "      <td>Argentina</td>\n",
       "      <td>14.5</td>\n",
       "      <td>1946.700</td>\n",
       "      <td>834.3000</td>\n",
       "      <td>1648.000</td>\n",
       "      <td>18700</td>\n",
       "      <td>20.900</td>\n",
       "      <td>75.8</td>\n",
       "      <td>2.37</td>\n",
       "      <td>10300</td>\n",
       "      <td>0</td>\n",
       "      <td>0</td>\n",
       "    </tr>\n",
       "    <tr>\n",
       "      <th>6</th>\n",
       "      <td>Armenia</td>\n",
       "      <td>18.1</td>\n",
       "      <td>669.760</td>\n",
       "      <td>141.6800</td>\n",
       "      <td>1458.660</td>\n",
       "      <td>6700</td>\n",
       "      <td>7.770</td>\n",
       "      <td>73.3</td>\n",
       "      <td>1.69</td>\n",
       "      <td>3220</td>\n",
       "      <td>0</td>\n",
       "      <td>0</td>\n",
       "    </tr>\n",
       "    <tr>\n",
       "      <th>7</th>\n",
       "      <td>Australia</td>\n",
       "      <td>4.8</td>\n",
       "      <td>10276.200</td>\n",
       "      <td>4530.8700</td>\n",
       "      <td>10847.100</td>\n",
       "      <td>41400</td>\n",
       "      <td>1.160</td>\n",
       "      <td>82.0</td>\n",
       "      <td>1.93</td>\n",
       "      <td>51900</td>\n",
       "      <td>1</td>\n",
       "      <td>0</td>\n",
       "    </tr>\n",
       "    <tr>\n",
       "      <th>8</th>\n",
       "      <td>Austria</td>\n",
       "      <td>4.3</td>\n",
       "      <td>24059.700</td>\n",
       "      <td>5159.0000</td>\n",
       "      <td>22418.200</td>\n",
       "      <td>43200</td>\n",
       "      <td>0.873</td>\n",
       "      <td>80.5</td>\n",
       "      <td>1.44</td>\n",
       "      <td>46900</td>\n",
       "      <td>1</td>\n",
       "      <td>1</td>\n",
       "    </tr>\n",
       "    <tr>\n",
       "      <th>9</th>\n",
       "      <td>Azerbaijan</td>\n",
       "      <td>39.2</td>\n",
       "      <td>3171.120</td>\n",
       "      <td>343.3920</td>\n",
       "      <td>1208.880</td>\n",
       "      <td>16000</td>\n",
       "      <td>13.800</td>\n",
       "      <td>69.1</td>\n",
       "      <td>1.92</td>\n",
       "      <td>5840</td>\n",
       "      <td>0</td>\n",
       "      <td>0</td>\n",
       "    </tr>\n",
       "    <tr>\n",
       "      <th>10</th>\n",
       "      <td>Bahamas</td>\n",
       "      <td>13.8</td>\n",
       "      <td>9800.000</td>\n",
       "      <td>2209.2000</td>\n",
       "      <td>12236.000</td>\n",
       "      <td>22900</td>\n",
       "      <td>-0.393</td>\n",
       "      <td>73.8</td>\n",
       "      <td>1.86</td>\n",
       "      <td>28000</td>\n",
       "      <td>0</td>\n",
       "      <td>0</td>\n",
       "    </tr>\n",
       "    <tr>\n",
       "      <th>11</th>\n",
       "      <td>Bahrain</td>\n",
       "      <td>8.6</td>\n",
       "      <td>14386.500</td>\n",
       "      <td>1028.7900</td>\n",
       "      <td>10536.300</td>\n",
       "      <td>41100</td>\n",
       "      <td>7.440</td>\n",
       "      <td>76.0</td>\n",
       "      <td>2.16</td>\n",
       "      <td>20700</td>\n",
       "      <td>0</td>\n",
       "      <td>0</td>\n",
       "    </tr>\n",
       "    <tr>\n",
       "      <th>12</th>\n",
       "      <td>Bangladesh</td>\n",
       "      <td>49.4</td>\n",
       "      <td>121.280</td>\n",
       "      <td>26.6816</td>\n",
       "      <td>165.244</td>\n",
       "      <td>2440</td>\n",
       "      <td>7.140</td>\n",
       "      <td>70.4</td>\n",
       "      <td>2.33</td>\n",
       "      <td>758</td>\n",
       "      <td>0</td>\n",
       "      <td>0</td>\n",
       "    </tr>\n",
       "    <tr>\n",
       "      <th>13</th>\n",
       "      <td>Barbados</td>\n",
       "      <td>14.2</td>\n",
       "      <td>6320.000</td>\n",
       "      <td>1275.2000</td>\n",
       "      <td>7792.000</td>\n",
       "      <td>15300</td>\n",
       "      <td>0.321</td>\n",
       "      <td>76.7</td>\n",
       "      <td>1.78</td>\n",
       "      <td>16000</td>\n",
       "      <td>0</td>\n",
       "      <td>0</td>\n",
       "    </tr>\n",
       "    <tr>\n",
       "      <th>14</th>\n",
       "      <td>Belarus</td>\n",
       "      <td>5.5</td>\n",
       "      <td>3099.420</td>\n",
       "      <td>338.2830</td>\n",
       "      <td>3889.350</td>\n",
       "      <td>16200</td>\n",
       "      <td>15.100</td>\n",
       "      <td>70.4</td>\n",
       "      <td>1.49</td>\n",
       "      <td>6030</td>\n",
       "      <td>0</td>\n",
       "      <td>0</td>\n",
       "    </tr>\n",
       "    <tr>\n",
       "      <th>15</th>\n",
       "      <td>Belgium</td>\n",
       "      <td>4.5</td>\n",
       "      <td>33921.600</td>\n",
       "      <td>4750.8000</td>\n",
       "      <td>33166.800</td>\n",
       "      <td>41100</td>\n",
       "      <td>1.880</td>\n",
       "      <td>80.0</td>\n",
       "      <td>1.86</td>\n",
       "      <td>44400</td>\n",
       "      <td>1</td>\n",
       "      <td>1</td>\n",
       "    </tr>\n",
       "    <tr>\n",
       "      <th>16</th>\n",
       "      <td>Belize</td>\n",
       "      <td>18.8</td>\n",
       "      <td>2525.880</td>\n",
       "      <td>225.6800</td>\n",
       "      <td>2495.500</td>\n",
       "      <td>7880</td>\n",
       "      <td>1.140</td>\n",
       "      <td>71.4</td>\n",
       "      <td>2.71</td>\n",
       "      <td>4340</td>\n",
       "      <td>0</td>\n",
       "      <td>0</td>\n",
       "    </tr>\n",
       "    <tr>\n",
       "      <th>17</th>\n",
       "      <td>Benin</td>\n",
       "      <td>111.0</td>\n",
       "      <td>180.404</td>\n",
       "      <td>31.0780</td>\n",
       "      <td>281.976</td>\n",
       "      <td>1820</td>\n",
       "      <td>0.885</td>\n",
       "      <td>61.8</td>\n",
       "      <td>5.36</td>\n",
       "      <td>758</td>\n",
       "      <td>2</td>\n",
       "      <td>0</td>\n",
       "    </tr>\n",
       "    <tr>\n",
       "      <th>18</th>\n",
       "      <td>Bhutan</td>\n",
       "      <td>42.7</td>\n",
       "      <td>926.500</td>\n",
       "      <td>113.3600</td>\n",
       "      <td>1541.260</td>\n",
       "      <td>6420</td>\n",
       "      <td>5.990</td>\n",
       "      <td>72.1</td>\n",
       "      <td>2.38</td>\n",
       "      <td>2180</td>\n",
       "      <td>0</td>\n",
       "      <td>0</td>\n",
       "    </tr>\n",
       "    <tr>\n",
       "      <th>19</th>\n",
       "      <td>Bolivia</td>\n",
       "      <td>46.6</td>\n",
       "      <td>815.760</td>\n",
       "      <td>95.8320</td>\n",
       "      <td>679.140</td>\n",
       "      <td>5410</td>\n",
       "      <td>8.780</td>\n",
       "      <td>71.6</td>\n",
       "      <td>3.20</td>\n",
       "      <td>1980</td>\n",
       "      <td>0</td>\n",
       "      <td>0</td>\n",
       "    </tr>\n",
       "  </tbody>\n",
       "</table>\n",
       "</div>"
      ],
      "text/plain": [
       "                country  child_mort    exports     health    imports  income  \\\n",
       "0           Afghanistan        90.2     55.300    41.9174    248.297    1610   \n",
       "1               Albania        16.6   1145.200   267.8950   1987.740    9930   \n",
       "2               Algeria        27.3   1712.640   185.9820   1400.440   12900   \n",
       "3                Angola       119.0   2199.190   100.6050   1514.370    5900   \n",
       "4   Antigua and Barbuda        10.3   5551.000   735.6600   7185.800   19100   \n",
       "5             Argentina        14.5   1946.700   834.3000   1648.000   18700   \n",
       "6               Armenia        18.1    669.760   141.6800   1458.660    6700   \n",
       "7             Australia         4.8  10276.200  4530.8700  10847.100   41400   \n",
       "8               Austria         4.3  24059.700  5159.0000  22418.200   43200   \n",
       "9            Azerbaijan        39.2   3171.120   343.3920   1208.880   16000   \n",
       "10              Bahamas        13.8   9800.000  2209.2000  12236.000   22900   \n",
       "11              Bahrain         8.6  14386.500  1028.7900  10536.300   41100   \n",
       "12           Bangladesh        49.4    121.280    26.6816    165.244    2440   \n",
       "13             Barbados        14.2   6320.000  1275.2000   7792.000   15300   \n",
       "14              Belarus         5.5   3099.420   338.2830   3889.350   16200   \n",
       "15              Belgium         4.5  33921.600  4750.8000  33166.800   41100   \n",
       "16               Belize        18.8   2525.880   225.6800   2495.500    7880   \n",
       "17                Benin       111.0    180.404    31.0780    281.976    1820   \n",
       "18               Bhutan        42.7    926.500   113.3600   1541.260    6420   \n",
       "19              Bolivia        46.6    815.760    95.8320    679.140    5410   \n",
       "\n",
       "    inflation  life_expec  total_fer   gdpp  KClusterID  HclusterID  \n",
       "0       9.440        56.2       5.82    553           2           0  \n",
       "1       4.490        76.3       1.65   4090           0           0  \n",
       "2      16.100        76.5       2.89   4460           0           0  \n",
       "3      22.400        60.1       6.16   3530           2           0  \n",
       "4       1.440        76.8       2.13  12200           0           0  \n",
       "5      20.900        75.8       2.37  10300           0           0  \n",
       "6       7.770        73.3       1.69   3220           0           0  \n",
       "7       1.160        82.0       1.93  51900           1           0  \n",
       "8       0.873        80.5       1.44  46900           1           1  \n",
       "9      13.800        69.1       1.92   5840           0           0  \n",
       "10     -0.393        73.8       1.86  28000           0           0  \n",
       "11      7.440        76.0       2.16  20700           0           0  \n",
       "12      7.140        70.4       2.33    758           0           0  \n",
       "13      0.321        76.7       1.78  16000           0           0  \n",
       "14     15.100        70.4       1.49   6030           0           0  \n",
       "15      1.880        80.0       1.86  44400           1           1  \n",
       "16      1.140        71.4       2.71   4340           0           0  \n",
       "17      0.885        61.8       5.36    758           2           0  \n",
       "18      5.990        72.1       2.38   2180           0           0  \n",
       "19      8.780        71.6       3.20   1980           0           0  "
      ]
     },
     "execution_count": 49,
     "metadata": {},
     "output_type": "execute_result"
    }
   ],
   "source": [
    "Final['HclusterID']=cluster_labels\n",
    "Final.head(20)"
   ]
  },
  {
   "cell_type": "code",
   "execution_count": 50,
   "metadata": {},
   "outputs": [
    {
     "name": "stdout",
     "output_type": "stream",
     "text": [
      "0    154\n",
      "1     11\n",
      "3      1\n",
      "2      1\n",
      "Name: HclusterID, dtype: int64\n",
      "0    92\n",
      "2    48\n",
      "1    27\n",
      "Name: KClusterID, dtype: int64\n"
     ]
    }
   ],
   "source": [
    "print(Final['HclusterID'].value_counts())\n",
    "print(Final['KClusterID'].value_counts())"
   ]
  },
  {
   "cell_type": "code",
   "execution_count": 51,
   "metadata": {},
   "outputs": [
    {
     "data": {
      "image/png": "[encoded data removed]",
      "text/plain": [
       "<Figure size 432x288 with 1 Axes>"
      ]
     },
     "metadata": {
      "needs_background": "light"
     },
     "output_type": "display_data"
    },
    {
     "data": {
      "image/png": "[encoded data removed]",
      "text/plain": [
       "<Figure size 432x288 with 1 Axes>"
      ]
     },
     "metadata": {
      "needs_background": "light"
     },
     "output_type": "display_data"
    },
    {
     "data": {
      "image/png": "[encoded data removed]",
      "text/plain": [
       "<Figure size 432x288 with 1 Axes>"
      ]
     },
     "metadata": {
      "needs_background": "light"
     },
     "output_type": "display_data"
    },
    {
     "data": {
      "text/plain": [
       "<matplotlib.axes._subplots.AxesSubplot at 0x18de0d1ac70>"
      ]
     },
     "execution_count": 51,
     "metadata": {},
     "output_type": "execute_result"
    },
    {
     "data": {
      "image/png": "[encoded data removed]",
      "text/plain": [
       "<Figure size 432x288 with 1 Axes>"
      ]
     },
     "metadata": {
      "needs_background": "light"
     },
     "output_type": "display_data"
    }
   ],
   "source": [
    "sns.scatterplot(x='PC1',y = 'PC2',hue= 'KClusterID',data = dat_km,palette = 'Set1')\n",
    "plt.show()\n",
    "sns.scatterplot(x='PC1',y = 'PC3',hue= 'KClusterID',data = dat_km,palette = 'Set2')\n",
    "plt.show()\n",
    "\n",
    "\n",
    "sns.scatterplot(x='child_mort',y='gdpp', hue= 'KClusterID',data = Final,palette = 'Set1')\n",
    "plt.show()\n",
    "sns.scatterplot(x='child_mort',y='gdpp', hue= 'HclusterID',data = Final,palette = 'Set1')"
   ]
  },
  {
   "cell_type": "code",
   "execution_count": 52,
   "metadata": {},
   "outputs": [
    {
     "data": {
      "text/plain": [
       "<seaborn.axisgrid.PairGrid at 0x18de11e2a30>"
      ]
     },
     "execution_count": 52,
     "metadata": {},
     "output_type": "execute_result"
    },
    {
     "data": {
      "text/plain": [
       "<Figure size 1440x864 with 0 Axes>"
      ]
     },
     "metadata": {},
     "output_type": "display_data"
    },
    {
     "data": {
      "image/png": "[encoded data removed]",
      "text/plain": [
       "<Figure size 420.125x180 with 2 Axes>"
      ]
     },
     "metadata": {
      "needs_background": "light"
     },
     "output_type": "display_data"
    },
    {
     "data": {
      "image/png": "[encoded data removed]",
      "text/plain": [
       "<Figure size 420.125x180 with 2 Axes>"
      ]
     },
     "metadata": {
      "needs_background": "light"
     },
     "output_type": "display_data"
    },
    {
     "data": {
      "image/png": "[encoded data removed]",
      "text/plain": [
       "<Figure size 420.125x180 with 2 Axes>"
      ]
     },
     "metadata": {
      "needs_background": "light"
     },
     "output_type": "display_data"
    }
   ],
   "source": [
    "plt.figure(figsize=(20,12))\n",
    "sns.pairplot(y_vars='child_mort',x_vars=['income', 'gdpp'],hue='KClusterID',data = Final)\n",
    "sns.pairplot(y_vars='income',x_vars=['child_mort', 'gdpp'],hue='KClusterID',data = Final)\n",
    "sns.pairplot(y_vars='gdpp',x_vars=['child_mort', 'income'],hue='KClusterID',data = Final)"
   ]
  },
  {
   "cell_type": "code",
   "execution_count": 53,
   "metadata": {},
   "outputs": [
    {
     "name": "stdout",
     "output_type": "stream",
     "text": [
      "KClusterID = 0 \n",
      "        child_mort       exports       health       imports        income  \\\n",
      "count   92.000000     92.000000    92.000000     92.000000     92.000000   \n",
      "mean    20.177174   3650.066288   573.165330   3759.545881  14169.456522   \n",
      "std     14.095983   3758.035772   623.537749   3463.217447   9474.287745   \n",
      "min      3.200000      1.076920    19.463600      0.651092   1990.000000   \n",
      "25%     10.275000   1003.987500   179.336250   1375.405000   7150.000000   \n",
      "50%     17.150000   1876.810000   366.440000   2370.465000  11300.000000   \n",
      "75%     26.200000   5184.400000   740.455000   5183.775000  19175.000000   \n",
      "max     64.400000  15046.200000  2928.780000  14718.600000  45400.000000   \n",
      "\n",
      "       inflation  life_expec  total_fer          gdpp  KClusterID  HclusterID  \n",
      "count  92.000000   92.000000  92.000000     92.000000        92.0        92.0  \n",
      "mean    6.995435   73.552174   2.225652   8226.869565         0.0         0.0  \n",
      "std     7.768033    4.097908   0.679580   7140.250011         0.0         0.0  \n",
      "min    -4.210000   63.000000   1.230000    592.000000         0.0         0.0  \n",
      "25%     1.735000   70.400000   1.590000   3027.500000         0.0         0.0  \n",
      "50%     5.025000   74.100000   2.165000   5645.000000         0.0         0.0  \n",
      "75%     9.187500   76.400000   2.642500  11450.000000         0.0         0.0  \n",
      "max    45.900000   81.900000   4.340000  30700.000000         0.0         0.0  \n",
      "KClusterID = 1 \n",
      "        child_mort        exports       health        imports         income  \\\n",
      "count   27.000000      27.000000    27.000000      27.000000      27.000000   \n",
      "mean     5.092593   31897.859259  4378.955185   26469.600000   50833.333333   \n",
      "std      2.319470   35391.100193  2319.748714   28902.412807   21639.369392   \n",
      "min      2.600000    6001.600000  1002.520000    6052.000000   28300.000000   \n",
      "25%      3.400000   12381.600000  2624.530000   11556.300000   37850.000000   \n",
      "50%      4.300000   24059.700000  4475.530000   17710.000000   42900.000000   \n",
      "75%      5.900000   34389.100000  5257.600000   28639.400000   56550.000000   \n",
      "max     10.800000  183750.000000  8663.600000  149100.000000  125000.000000   \n",
      "\n",
      "       inflation  life_expec  total_fer           gdpp  KClusterID  HclusterID  \n",
      "count  27.000000   27.000000  27.000000      27.000000        27.0   27.000000  \n",
      "mean    3.120407   80.462963   1.775185   48759.259259         1.0    0.481481  \n",
      "std     4.399902    1.540017   0.293380   17757.777478         0.0    0.579812  \n",
      "min    -3.220000   76.500000   1.150000   21100.000000         1.0    0.000000  \n",
      "25%     0.803000   79.950000   1.490000   38700.000000         1.0    0.000000  \n",
      "50%     1.570000   80.500000   1.870000   46200.000000         1.0    0.000000  \n",
      "75%     3.780000   81.450000   1.965000   51100.000000         1.0    1.000000  \n",
      "max    16.700000   82.800000   2.210000  105000.000000         1.0    2.000000  \n",
      "KClusterID = 2 \n",
      "        child_mort       exports      health       imports        income  \\\n",
      "count   48.000000     48.000000   48.000000     48.000000     48.000000   \n",
      "mean    91.610417    879.063521  114.821765    827.028771   3897.354167   \n",
      "std     34.319855   2252.474004  165.518331   1540.981910   5590.168621   \n",
      "min     28.100000     20.605200   12.821200     90.552000    609.000000   \n",
      "25%     63.675000    102.873750   34.005875    193.319500   1390.000000   \n",
      "50%     89.750000    196.260000   51.613500    339.306000   1860.000000   \n",
      "75%    111.000000    552.522500   95.303250    801.000000   3522.500000   \n",
      "max    208.000000  14671.800000  766.080000  10071.900000  33700.000000   \n",
      "\n",
      "        inflation  life_expec  total_fer          gdpp  KClusterID  HclusterID  \n",
      "count   48.000000   48.000000  48.000000     48.000000        48.0   48.000000  \n",
      "mean    11.911146   59.239583   4.992083   1909.208333         2.0    0.062500  \n",
      "std     15.362485    6.384914   1.036192   2925.911009         0.0    0.433013  \n",
      "min      0.885000   32.100000   2.590000    231.000000         2.0    0.000000  \n",
      "25%      4.080000   56.725000   4.475000    551.500000         2.0    0.000000  \n",
      "50%      8.855000   59.800000   5.055000    932.000000         2.0    0.000000  \n",
      "75%     16.600000   62.825000   5.597500   1465.000000         2.0    0.000000  \n",
      "max    104.000000   71.100000   7.490000  17100.000000         2.0    3.000000  \n"
     ]
    }
   ],
   "source": [
    "#Data summary of Kcluster Ids\n",
    "print(\"KClusterID = 0 \\n\",Final[Final['KClusterID']==0].describe())\n",
    "print(\"KClusterID = 1 \\n\",Final[Final['KClusterID']==1].describe())\n",
    "print(\"KClusterID = 2 \\n\",Final[Final['KClusterID']==2].describe())"
   ]
  },
  {
   "cell_type": "code",
   "execution_count": 54,
   "metadata": {},
   "outputs": [
    {
     "name": "stdout",
     "output_type": "stream",
     "text": [
      "KClusterID = 0 \n",
      " 1                  Albania\n",
      "2                  Algeria\n",
      "4      Antigua and Barbuda\n",
      "5                Argentina\n",
      "6                  Armenia\n",
      "              ...         \n",
      "160                Uruguay\n",
      "161             Uzbekistan\n",
      "162                Vanuatu\n",
      "163              Venezuela\n",
      "164                Vietnam\n",
      "Name: country, Length: 92, dtype: object\n",
      "KClusterID = 1 \n",
      " 7                 Australia\n",
      "8                   Austria\n",
      "15                  Belgium\n",
      "23                   Brunei\n",
      "29                   Canada\n",
      "42                   Cyprus\n",
      "44                  Denmark\n",
      "53                  Finland\n",
      "54                   France\n",
      "58                  Germany\n",
      "68                  Iceland\n",
      "73                  Ireland\n",
      "75                    Italy\n",
      "77                    Japan\n",
      "82                   Kuwait\n",
      "91               Luxembourg\n",
      "98                    Malta\n",
      "110             Netherlands\n",
      "111             New Zealand\n",
      "114                  Norway\n",
      "123                   Qatar\n",
      "133               Singapore\n",
      "144                  Sweden\n",
      "145             Switzerland\n",
      "157    United Arab Emirates\n",
      "158          United Kingdom\n",
      "159           United States\n",
      "Name: country, dtype: object\n",
      "KClusterID = 2 \n",
      " 0                   Afghanistan\n",
      "3                        Angola\n",
      "17                        Benin\n",
      "21                     Botswana\n",
      "25                 Burkina Faso\n",
      "26                      Burundi\n",
      "28                     Cameroon\n",
      "31     Central African Republic\n",
      "32                         Chad\n",
      "36                      Comoros\n",
      "37             Congo, Dem. Rep.\n",
      "38                  Congo, Rep.\n",
      "40                Cote d'Ivoire\n",
      "49            Equatorial Guinea\n",
      "50                      Eritrea\n",
      "55                        Gabon\n",
      "56                       Gambia\n",
      "59                        Ghana\n",
      "63                       Guinea\n",
      "64                Guinea-Bissau\n",
      "66                        Haiti\n",
      "72                         Iraq\n",
      "80                        Kenya\n",
      "81                     Kiribati\n",
      "84                          Lao\n",
      "87                      Lesotho\n",
      "88                      Liberia\n",
      "93                   Madagascar\n",
      "94                       Malawi\n",
      "97                         Mali\n",
      "99                   Mauritania\n",
      "106                  Mozambique\n",
      "108                     Namibia\n",
      "112                       Niger\n",
      "113                     Nigeria\n",
      "116                    Pakistan\n",
      "126                      Rwanda\n",
      "129                     Senegal\n",
      "132                Sierra Leone\n",
      "136             Solomon Islands\n",
      "137                South Africa\n",
      "142                       Sudan\n",
      "147                    Tanzania\n",
      "149                 Timor-Leste\n",
      "150                        Togo\n",
      "155                      Uganda\n",
      "165                       Yemen\n",
      "166                      Zambia\n",
      "Name: country, dtype: object\n"
     ]
    }
   ],
   "source": [
    "#list of countries by cluster\n",
    "print(\"KClusterID = 0 \\n\",Final[Final['KClusterID']==0]['country'])\n",
    "print(\"KClusterID = 1 \\n\",Final[Final['KClusterID']==1]['country'])\n",
    "print(\"KClusterID = 2 \\n\",Final[Final['KClusterID']==2]['country'])"
   ]
  },
  {
   "cell_type": "code",
   "execution_count": 55,
   "metadata": {},
   "outputs": [
    {
     "data": {
      "image/png": "[encoded data removed]",
      "text/plain": [
       "<Figure size 1440x864 with 9 Axes>"
      ]
     },
     "metadata": {
      "needs_background": "light"
     },
     "output_type": "display_data"
    }
   ],
   "source": [
    "plt.figure(figsize=(20,12))\n",
    "var = ['child_mort', 'income', 'gdpp','exports','imports','health','inflation','life_expec','total_fer']\n",
    "for i in enumerate(var):\n",
    "    plt.subplot(3,3,i[0]+1)\n",
    "    sns.boxplot(x= 'KClusterID',y= i[1], data = Final)"
   ]
  },
  {
   "cell_type": "code",
   "execution_count": 56,
   "metadata": {},
   "outputs": [
    {
     "name": "stdout",
     "output_type": "stream",
     "text": [
      "            country  child_mort   gdpp  income\n",
      "107         Myanmar        64.4    988    3720\n",
      "154    Turkmenistan        62.0   4440    9940\n",
      "69            India        58.8   1350    4410\n",
      "146      Tajikistan        52.4    738    2110\n",
      "12       Bangladesh        49.4    758    2440\n",
      "..              ...         ...    ...     ...\n",
      "60           Greece         3.9  26900   28700\n",
      "122        Portugal         3.9  22500   27200\n",
      "139           Spain         3.8  30700   32500\n",
      "43   Czech Republic         3.4  19800   28300\n",
      "135        Slovenia         3.2  23400   28700\n",
      "\n",
      "[92 rows x 4 columns]\n"
     ]
    }
   ],
   "source": [
    "clusterO=Final[Final['KClusterID']==0]\n",
    "print(clusterO[['country','child_mort','gdpp','income']].sort_values(by=['child_mort','gdpp','income'],ascending=False))\n"
   ]
  },
  {
   "cell_type": "code",
   "execution_count": 58,
   "metadata": {},
   "outputs": [
    {
     "name": "stdout",
     "output_type": "stream",
     "text": [
      "                  country  child_mort    gdpp  income\n",
      "82                 Kuwait        10.8   38500   75200\n",
      "23                 Brunei        10.5   35300   80600\n",
      "123                 Qatar         9.0   70300  125000\n",
      "157  United Arab Emirates         8.6   35000   57600\n",
      "159         United States         7.3   48400   49400\n",
      "98                  Malta         6.8   21100   28300\n",
      "111           New Zealand         6.2   33700   32300\n",
      "29                 Canada         5.6   47400   40700\n",
      "158        United Kingdom         5.2   38900   36200\n",
      "7               Australia         4.8   51900   41400\n",
      "145           Switzerland         4.5   74600   55500\n",
      "110           Netherlands         4.5   50300   45500\n",
      "15                Belgium         4.5   44400   41100\n",
      "8                 Austria         4.3   46900   43200\n",
      "73                Ireland         4.2   48700   45700\n",
      "58                Germany         4.2   41800   40400\n",
      "54                 France         4.2   40600   36900\n",
      "44                Denmark         4.1   58000   44000\n",
      "75                  Italy         4.0   35800   36200\n",
      "42                 Cyprus         3.6   30800   33900\n",
      "114                Norway         3.2   87800   62300\n",
      "77                  Japan         3.2   44500   35800\n",
      "144                Sweden         3.0   52100   42900\n",
      "53                Finland         3.0   46200   39800\n",
      "91             Luxembourg         2.8  105000   91700\n",
      "133             Singapore         2.8   46600   72100\n",
      "68                Iceland         2.6   41900   38800\n"
     ]
    }
   ],
   "source": [
    "clusterI=Final[Final['KClusterID']==1]\n",
    "print(clusterI[['country','child_mort','gdpp','income']].sort_values(by=['child_mort','gdpp','income'],ascending=False))"
   ]
  },
  {
   "cell_type": "code",
   "execution_count": 59,
   "metadata": {},
   "outputs": [
    {
     "name": "stdout",
     "output_type": "stream",
     "text": [
      "                      country  child_mort   gdpp  income\n",
      "66                      Haiti       208.0    662    1500\n",
      "132              Sierra Leone       160.0    399    1220\n",
      "32                       Chad       150.0    897    1930\n",
      "31   Central African Republic       149.0    446     888\n",
      "97                       Mali       137.0    708    1870\n",
      "113                   Nigeria       130.0   2330    5150\n",
      "112                     Niger       123.0    348     814\n",
      "3                      Angola       119.0   3530    5900\n",
      "25               Burkina Faso       116.0    575    1430\n",
      "37           Congo, Dem. Rep.       116.0    334     609\n",
      "64              Guinea-Bissau       114.0    547    1390\n",
      "49          Equatorial Guinea       111.0  17100   33700\n",
      "40              Cote d'Ivoire       111.0   1220    2690\n",
      "17                      Benin       111.0    758    1820\n",
      "63                     Guinea       109.0    648    1190\n",
      "28                   Cameroon       108.0   1310    2660\n",
      "106                Mozambique       101.0    419     918\n",
      "87                    Lesotho        99.7   1170    2380\n",
      "99                 Mauritania        97.4   1200    3320\n",
      "26                    Burundi        93.6    231     764\n",
      "116                  Pakistan        92.1   1040    4280\n",
      "94                     Malawi        90.5    459    1030\n",
      "150                      Togo        90.3    488    1210\n",
      "0                 Afghanistan        90.2    553    1610\n",
      "88                    Liberia        89.3    327     700\n",
      "36                    Comoros        88.2    769    1410\n",
      "166                    Zambia        83.1   1460    3280\n",
      "155                    Uganda        81.0    595    1540\n",
      "56                     Gambia        80.3    562    1660\n",
      "84                        Lao        78.9   1140    3980\n",
      "142                     Sudan        76.7   1480    3370\n",
      "59                      Ghana        74.7   1310    3060\n",
      "147                  Tanzania        71.9    702    2090\n",
      "129                   Senegal        66.8   1000    2180\n",
      "38                Congo, Rep.        63.9   2740    5190\n",
      "55                      Gabon        63.7   8750   15400\n",
      "126                    Rwanda        63.6    563    1350\n",
      "81                   Kiribati        62.7   1490    1730\n",
      "149               Timor-Leste        62.6   3600    1850\n",
      "80                      Kenya        62.2    967    2480\n",
      "93                 Madagascar        62.2    413    1390\n",
      "165                     Yemen        56.3   1310    4480\n",
      "108                   Namibia        56.0   5190    8460\n",
      "50                    Eritrea        55.2    482    1420\n",
      "137              South Africa        53.7   7280   12000\n",
      "21                   Botswana        52.5   6350   13300\n",
      "72                       Iraq        36.9   4500   12700\n",
      "136           Solomon Islands        28.1   1290    1780\n"
     ]
    }
   ],
   "source": [
    "clusterII=Final[Final['KClusterID']==2]\n",
    "print(clusterII[['country','child_mort','gdpp','income']].sort_values(by=['child_mort','gdpp','income'],ascending=False))"
   ]
  },
  {
   "cell_type": "code",
   "execution_count": null,
   "metadata": {},
   "outputs": [],
   "source": []
  }
 ],
 "metadata": {
  "kernelspec": {
   "display_name": "Python 3",
   "language": "python",
   "name": "python3"
  },
  "language_info": {
   "codemirror_mode": {
    "name": "ipython",
    "version": 3
   },
   "file_extension": ".py",
   "mimetype": "text/x-python",
   "name": "python",
   "nbconvert_exporter": "python",
   "pygments_lexer": "ipython3",
   "version": "3.8.3"
  }
 },
 "nbformat": 4,
 "nbformat_minor": 4
}
